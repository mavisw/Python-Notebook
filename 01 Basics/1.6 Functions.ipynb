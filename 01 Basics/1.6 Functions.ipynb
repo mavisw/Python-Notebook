{
 "cells": [
  {
   "cell_type": "markdown",
   "metadata": {},
   "source": [
    "# Functions\n",
    "\n",
    "* A named sequence of statements that performs a series of operations\n",
    "* May or may not take arguments\n",
    "* May or may not produce a result\n",
    "* All functions return some value (could be None)\n",
    "* Function execution introduces a new local symbol table (scope)\n",
    "\n",
    "<a href=\"https://docs.python.org/3/library/functions.html\">\n",
    "    Python Built-In Functions\n",
    "</a>"
   ]
  },
  {
   "cell_type": "code",
   "execution_count": 1,
   "metadata": {},
   "outputs": [
    {
     "name": "stdout",
     "output_type": "stream",
     "text": [
      "1\n"
     ]
    }
   ],
   "source": [
    "a = 2\n",
    "b = 4\n",
    "c = 3\n",
    "\n",
    "ApowB_modC = pow(a,b,c) ## a**b % c\n",
    "print(ApowB_modC)"
   ]
  },
  {
   "cell_type": "code",
   "execution_count": 2,
   "metadata": {
    "scrolled": true
   },
   "outputs": [
    {
     "name": "stdout",
     "output_type": "stream",
     "text": [
      "hello, how are you?\n"
     ]
    }
   ],
   "source": [
    "# default parameter/argument\n",
    "\n",
    "def myfun(default=\"hello,\"):\n",
    "    print(f\"{default} how are you?\")\n",
    "\n",
    "myfun()\n",
    "    "
   ]
  },
  {
   "cell_type": "markdown",
   "metadata": {},
   "source": [
    "### <a href=\"https://www.w3schools.com/python/python_scope.asp\">Scope</a>"
   ]
  },
  {
   "cell_type": "code",
   "execution_count": 3,
   "metadata": {},
   "outputs": [
    {
     "name": "stdout",
     "output_type": "stream",
     "text": [
      "300\n"
     ]
    }
   ],
   "source": [
    "# Function inside a funciton\n",
    "\n",
    "def myfunc():\n",
    "  x = 300\n",
    "  def myinnerfunc():\n",
    "    print(x)\n",
    "  myinnerfunc()\n",
    "\n",
    "myfunc() "
   ]
  },
  {
   "cell_type": "markdown",
   "metadata": {},
   "source": [
    "## locals()\n",
    "* Update and return a <b>dictionary</b> representing the current local symbol table. \n",
    "* Free variables are returned by locals() when it is called in function blocks, but not in class blocks."
   ]
  },
  {
   "cell_type": "code",
   "execution_count": 7,
   "metadata": {},
   "outputs": [
    {
     "name": "stdout",
     "output_type": "stream",
     "text": [
      "{'y': 3, 'z': 5}\n",
      "2 3 5\n"
     ]
    }
   ],
   "source": [
    "x = 2\n",
    "def foo(y):\n",
    "    z = 5\n",
    "    print(locals())\n",
    "    print(x,y,z)\n",
    "\n",
    "foo(3)"
   ]
  },
  {
   "cell_type": "markdown",
   "metadata": {},
   "source": [
    "### globals()['val']\n",
    "* Return a dictionary representing the current global symbol table. \n",
    "* This is always the dictionary of the current module (inside a function or method, this is the module where it is defined, <b>not</b> the module from which it is called)."
   ]
  },
  {
   "cell_type": "code",
   "execution_count": 8,
   "metadata": {},
   "outputs": [
    {
     "name": "stdout",
     "output_type": "stream",
     "text": [
      "2\n",
      "2 3 5\n"
     ]
    }
   ],
   "source": [
    "# global()['val']\n",
    "x = 2\n",
    "z = 6\n",
    "def foo(y):\n",
    "    z = 5\n",
    "    print(globals()['x'])\n",
    "    print(x,y,z)\n",
    "\n",
    "foo(3)"
   ]
  },
  {
   "cell_type": "code",
   "execution_count": 9,
   "metadata": {},
   "outputs": [
    {
     "name": "stdout",
     "output_type": "stream",
     "text": [
      "2\n",
      "41 3 5\n"
     ]
    }
   ],
   "source": [
    "x = 2\n",
    "\n",
    "def foo(y):\n",
    "    x = 41\n",
    "    z = 5\n",
    "    print(globals()['x'])\n",
    "    print(x,y,z)\n",
    "\n",
    "foo(3)"
   ]
  },
  {
   "cell_type": "markdown",
   "metadata": {},
   "source": [
    "## Call Stack\n",
    "call another function in a function"
   ]
  },
  {
   "cell_type": "code",
   "execution_count": 10,
   "metadata": {},
   "outputs": [
    {
     "name": "stdout",
     "output_type": "stream",
     "text": [
      "Bing tiddle tiddle bang.\n",
      "Bing tiddle tiddle bang.\n"
     ]
    }
   ],
   "source": [
    "# Bing tiddle tiddle bang.\n",
    "# Bing tiddle tiddle bang.\n",
    "\n",
    "def print_twice(bruce): \n",
    "    print(bruce)\n",
    "    print(bruce)\n",
    "\n",
    "def cat_twice(part1, part2): \n",
    "    cat = part1 + part2 \n",
    "    print_twice(cat)\n",
    "\n",
    "line1 = 'Bing tiddle ' \n",
    "line2 = 'tiddle bang.' \n",
    "cat_twice(line1, line2)"
   ]
  },
  {
   "cell_type": "markdown",
   "metadata": {},
   "source": [
    "## Default Parameters\n",
    "* Specify a default value for one or more parameters\n",
    "* Can call function with fewer arguments than it is defined to allow\n",
    "* Provides a simplified interface for a function"
   ]
  },
  {
   "cell_type": "markdown",
   "metadata": {},
   "source": [
    "##### without default values"
   ]
  },
  {
   "cell_type": "code",
   "execution_count": 17,
   "metadata": {},
   "outputs": [
    {
     "name": "stdout",
     "output_type": "stream",
     "text": [
      "2 3\n",
      "4 1\n",
      "4 1\n",
      "4 1\n"
     ]
    }
   ],
   "source": [
    "def print_two(a,b):\n",
    "    print(a,b)\n",
    "\n",
    "print_two(2,3) # => 2,3\n",
    "print_two(4,1) # => 4,1\n",
    "print_two(a=4, b=1) # => 4,1\n",
    "\n",
    "# VIP\n",
    "print_two(b=1, a=4)# => 4,1"
   ]
  },
  {
   "cell_type": "code",
   "execution_count": 14,
   "metadata": {},
   "outputs": [
    {
     "ename": "SyntaxError",
     "evalue": "positional argument follows keyword argument (<ipython-input-14-8387504a5022>, line 4)",
     "output_type": "error",
     "traceback": [
      "\u001b[0;36m  File \u001b[0;32m\"<ipython-input-14-8387504a5022>\"\u001b[0;36m, line \u001b[0;32m4\u001b[0m\n\u001b[0;31m    print_two(a=4, 1) # => SyntaxError: positional argument follows keyword argument\u001b[0m\n\u001b[0m                  ^\u001b[0m\n\u001b[0;31mSyntaxError\u001b[0m\u001b[0;31m:\u001b[0m positional argument follows keyword argument\n"
     ]
    }
   ],
   "source": [
    "# Errors\n",
    "\n",
    "print_two(41) # => TypeError: print_two() missing 1 required positional argument: 'b'\n",
    "print_two(a=4, 1) # => SyntaxError: positional argument follows keyword argument\n",
    "print_two(4, a=1) # => TypeError: print_two() got multiple values for argument 'a'\n",
    "print_two(4, 1, 1) # => TypeError: print_two() takes 2 positional arguments but 3 were given\n",
    "print_two(b=4, 1) # => positional argument follows keyword argument\n",
    "print_two() # =>TypeError: print_two() missing 2 required positional arguments: 'a' and 'b'"
   ]
  },
  {
   "cell_type": "markdown",
   "metadata": {},
   "source": [
    "##### with default valuea"
   ]
  },
  {
   "cell_type": "code",
   "execution_count": 2,
   "metadata": {},
   "outputs": [],
   "source": [
    "def keyword_args(a, b=1, c='X', d=None):\n",
    "    print(a, b, c, d) "
   ]
  },
  {
   "cell_type": "code",
   "execution_count": null,
   "metadata": {},
   "outputs": [],
   "source": [
    "keyword_args(5) #==> 5,1,X,None\n",
    "\n",
    "keyword_args(a=5) #==> 5,1,X,None\n",
    "\n",
    "keyword_args(5, 0, 1) #==> 5,0,1,None\n",
    "\n",
    "keyword_args(5, 2, d=8, c=4) #==> 5,2,4, 8\n",
    "\n",
    "# VIP\n",
    "keyword_args(5, 8) #==> 5, 8, X, None\n",
    "\n",
    "# VIP\n",
    "keyword_args(5, 2, c=4) #==> 5, 8, 4, None"
   ]
  },
  {
   "cell_type": "code",
   "execution_count": 5,
   "metadata": {},
   "outputs": [
    {
     "ename": "TypeError",
     "evalue": "keyword_args() takes from 1 to 4 positional arguments but 5 were given",
     "output_type": "error",
     "traceback": [
      "\u001b[0;31m---------------------------------------------------------------------------\u001b[0m",
      "\u001b[0;31mTypeError\u001b[0m                                 Traceback (most recent call last)",
      "\u001b[0;32m<ipython-input-5-84ddb0509fd2>\u001b[0m in \u001b[0;36m<module>\u001b[0;34m\u001b[0m\n\u001b[0;32m----> 1\u001b[0;31m \u001b[0mkeyword_args\u001b[0m\u001b[0;34m(\u001b[0m\u001b[0;36m5\u001b[0m\u001b[0;34m,\u001b[0m \u001b[0;36m2\u001b[0m\u001b[0;34m,\u001b[0m \u001b[0;36m0\u001b[0m\u001b[0;34m,\u001b[0m \u001b[0;36m1\u001b[0m\u001b[0;34m,\u001b[0m \u001b[0;34m\"\"\u001b[0m\u001b[0;34m)\u001b[0m \u001b[0;31m#==> error\u001b[0m\u001b[0;34m\u001b[0m\u001b[0;34m\u001b[0m\u001b[0m\n\u001b[0m",
      "\u001b[0;31mTypeError\u001b[0m: keyword_args() takes from 1 to 4 positional arguments but 5 were given"
     ]
    }
   ],
   "source": [
    "keyword_args(5, 2, 0, 1, \"\") #==> error"
   ]
  }
 ],
 "metadata": {
  "kernelspec": {
   "display_name": "Python 3",
   "language": "python",
   "name": "python3"
  },
  "language_info": {
   "codemirror_mode": {
    "name": "ipython",
    "version": 3
   },
   "file_extension": ".py",
   "mimetype": "text/x-python",
   "name": "python",
   "nbconvert_exporter": "python",
   "pygments_lexer": "ipython3",
   "version": "3.7.4"
  }
 },
 "nbformat": 4,
 "nbformat_minor": 2
}
