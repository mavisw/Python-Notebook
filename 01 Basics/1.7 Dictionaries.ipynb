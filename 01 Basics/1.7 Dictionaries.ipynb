{
 "cells": [
  {
   "cell_type": "markdown",
   "metadata": {},
   "source": [
    "# Dictionaries\n",
    "Dictionaries are key-value store in Python \n",
    "* mutable\n",
    "* not sorted\n",
    "* can be referenced by a key (very fast lookups)\n",
    "* use OrderedDict if a determined order of the elements is desired"
   ]
  },
  {
   "cell_type": "code",
   "execution_count": 1,
   "metadata": {},
   "outputs": [
    {
     "name": "stdout",
     "output_type": "stream",
     "text": [
      "{'name': 'mary', 'age': 20}\n",
      "{'name': 'mary', 'age': 20}\n",
      "True\n"
     ]
    }
   ],
   "source": [
    "a = {\n",
    "    'name':'mary', \n",
    "    'age': 20\n",
    "}\n",
    "\n",
    "# same as\n",
    "b = dict(name = 'mary', age = 20)\n",
    "\n",
    "print(a)\n",
    "print(b)\n",
    "print(a==b)"
   ]
  },
  {
   "cell_type": "markdown",
   "metadata": {},
   "source": [
    "### Add and Change"
   ]
  },
  {
   "cell_type": "code",
   "execution_count": 2,
   "metadata": {},
   "outputs": [
    {
     "name": "stdout",
     "output_type": "stream",
     "text": [
      "{'name': 'mary', 'age': 20, 'Height': 180}\n",
      "{'name': 'Peter', 'age': 20, 'Height': 180}\n"
     ]
    }
   ],
   "source": [
    "a = {\n",
    "    'name':'mary', \n",
    "    'age': 20\n",
    "}\n",
    "\n",
    "# add key-value\n",
    "a['Height'] = 180\n",
    "print(a)\n",
    "\n",
    "# change value\n",
    "a['name'] = 'Peter'\n",
    "print(a)"
   ]
  },
  {
   "cell_type": "markdown",
   "metadata": {},
   "source": [
    "### Dictionary Methods"
   ]
  },
  {
   "cell_type": "code",
   "execution_count": 25,
   "metadata": {},
   "outputs": [
    {
     "name": "stdout",
     "output_type": "stream",
     "text": [
      "dict_items([('one', 1), ('two', 2), ('three', 2)])\n",
      "dict_keys(['one', 'two', 'three'])\n",
      "dict_values([1, 2, 2])\n"
     ]
    }
   ],
   "source": [
    "# access elements\n",
    "d = {\"one\": 1, \"two\": 2, \"three\": 2}\n",
    "\n",
    "print(d.items())\n",
    "print(d.keys())\n",
    "print(d.values())"
   ]
  },
  {
   "cell_type": "code",
   "execution_count": 44,
   "metadata": {},
   "outputs": [
    {
     "name": "stdout",
     "output_type": "stream",
     "text": [
      "999\n",
      "{'one': 1, 'two': 2, 'three': 2}\n"
     ]
    }
   ],
   "source": [
    "# display None for one existent value\n",
    "# .get(key, default value)\n",
    "\n",
    "print(d.get('four',999))\n",
    "print(d)"
   ]
  },
  {
   "cell_type": "code",
   "execution_count": 21,
   "metadata": {},
   "outputs": [
    {
     "name": "stdout",
     "output_type": "stream",
     "text": [
      "2\n",
      "2\n",
      "None\n",
      "2\n",
      "None\n",
      "not allowed\n",
      "{'one': 1, 'two': 2, 'three': 2}\n"
     ]
    }
   ],
   "source": [
    "# get(key, default value) \n",
    "# get value associated with the specified key in the dictionary\n",
    "\n",
    "d = {\"one\": 1, \"two\": 2, \"three\": 2}\n",
    "\n",
    "print(d.get('two'))\n",
    "print(d['two'])\n",
    "\n",
    "print(d.get('a')) # None\n",
    "\n",
    "print(d.get('two', 1)) # 2\n",
    "\n",
    "print(d.get('four')) # ERROR w/o default value\n",
    "print(d.get('four', 'not allowed')) # 1 is default value\n",
    "\n",
    "print(d) # {'one': 1, 'two': 2, 'three': 2}"
   ]
  },
  {
   "cell_type": "code",
   "execution_count": 22,
   "metadata": {},
   "outputs": [
    {
     "name": "stdout",
     "output_type": "stream",
     "text": [
      "999\n"
     ]
    },
    {
     "ename": "KeyError",
     "evalue": "'four'",
     "output_type": "error",
     "traceback": [
      "\u001b[0;31m---------------------------------------------------------------------------\u001b[0m",
      "\u001b[0;31mKeyError\u001b[0m                                  Traceback (most recent call last)",
      "\u001b[0;32m<ipython-input-22-be89410096c4>\u001b[0m in \u001b[0;36m<module>\u001b[0;34m\u001b[0m\n\u001b[1;32m      3\u001b[0m \u001b[0;34m\u001b[0m\u001b[0m\n\u001b[1;32m      4\u001b[0m \u001b[0mprint\u001b[0m\u001b[0;34m(\u001b[0m\u001b[0md\u001b[0m\u001b[0;34m.\u001b[0m\u001b[0mpop\u001b[0m\u001b[0;34m(\u001b[0m\u001b[0;34m'four'\u001b[0m\u001b[0;34m,\u001b[0m \u001b[0;36m999\u001b[0m\u001b[0;34m)\u001b[0m\u001b[0;34m)\u001b[0m \u001b[0;31m# 999\u001b[0m\u001b[0;34m\u001b[0m\u001b[0;34m\u001b[0m\u001b[0m\n\u001b[0;32m----> 5\u001b[0;31m \u001b[0mprint\u001b[0m\u001b[0;34m(\u001b[0m\u001b[0md\u001b[0m\u001b[0;34m.\u001b[0m\u001b[0mpop\u001b[0m\u001b[0;34m(\u001b[0m\u001b[0;34m'four'\u001b[0m\u001b[0;34m)\u001b[0m\u001b[0;34m)\u001b[0m \u001b[0;31m# ERROR- key doesn't exist\u001b[0m\u001b[0;34m\u001b[0m\u001b[0;34m\u001b[0m\u001b[0m\n\u001b[0m",
      "\u001b[0;31mKeyError\u001b[0m: 'four'"
     ]
    }
   ],
   "source": [
    "# pop(key, default)\n",
    "# remove and return the value for specified key in the dictionary\n",
    "\n",
    "print(d.pop('four', 999)) # 999\n",
    "print(d.pop('four')) # ERROR- key doesn't exist"
   ]
  },
  {
   "cell_type": "code",
   "execution_count": 53,
   "metadata": {},
   "outputs": [
    {
     "ename": "KeyError",
     "evalue": "'g'",
     "output_type": "error",
     "traceback": [
      "\u001b[0;31m---------------------------------------------------------------------------\u001b[0m",
      "\u001b[0;31mKeyError\u001b[0m                                  Traceback (most recent call last)",
      "\u001b[0;32m<ipython-input-53-56596454e2be>\u001b[0m in \u001b[0;36m<module>\u001b[0;34m\u001b[0m\n\u001b[1;32m      4\u001b[0m \u001b[0;34m\u001b[0m\u001b[0m\n\u001b[1;32m      5\u001b[0m \u001b[0;32mdel\u001b[0m \u001b[0md\u001b[0m\u001b[0;34m[\u001b[0m\u001b[0;34m'a'\u001b[0m\u001b[0;34m]\u001b[0m \u001b[0;31m# {'b': 2, 'c': 3}\u001b[0m\u001b[0;34m\u001b[0m\u001b[0;34m\u001b[0m\u001b[0m\n\u001b[0;32m----> 6\u001b[0;31m \u001b[0;32mdel\u001b[0m \u001b[0md\u001b[0m\u001b[0;34m[\u001b[0m\u001b[0;34m'g'\u001b[0m\u001b[0;34m]\u001b[0m \u001b[0;31m# KeyError\u001b[0m\u001b[0;34m\u001b[0m\u001b[0;34m\u001b[0m\u001b[0m\n\u001b[0m",
      "\u001b[0;31mKeyError\u001b[0m: 'g'"
     ]
    }
   ],
   "source": [
    "# del – delete key value pair in the dictionary\n",
    "\n",
    "d = {\"a\": 1, \"b\": 2, \"c\": 3}\n",
    "\n",
    "del d['a'] # {'b': 2, 'c': 3}\n",
    "del d['g'] # KeyError"
   ]
  },
  {
   "cell_type": "code",
   "execution_count": 14,
   "metadata": {},
   "outputs": [],
   "source": [
    "# clear() – removes all items\n",
    "\n",
    "d.clear() # {}"
   ]
  },
  {
   "cell_type": "code",
   "execution_count": 55,
   "metadata": {},
   "outputs": [
    {
     "name": "stdout",
     "output_type": "stream",
     "text": [
      "{'b': 2, 'c': 3}\n",
      "2\n"
     ]
    }
   ],
   "source": [
    "# len – compute # of key-value pair in the dictionary\n",
    "\n",
    "print(d)\n",
    "print(len(d))"
   ]
  },
  {
   "cell_type": "markdown",
   "metadata": {},
   "source": [
    "### copy() – make a copy of the dict"
   ]
  },
  {
   "cell_type": "code",
   "execution_count": 82,
   "metadata": {},
   "outputs": [
    {
     "name": "stdout",
     "output_type": "stream",
     "text": [
      "{'a': 1, 'b': 2, 'c': 3, 'e': 'ET'}\n",
      "{'a': 1, 'b': 2, 'c': 3}\n",
      "{'a': 1, 'b': 2, 'c': 3}\n"
     ]
    },
    {
     "ename": "KeyError",
     "evalue": "'f'",
     "output_type": "error",
     "traceback": [
      "\u001b[0;31m---------------------------------------------------------------------------\u001b[0m",
      "\u001b[0;31mKeyError\u001b[0m                                  Traceback (most recent call last)",
      "\u001b[0;32m<ipython-input-82-393c58952243>\u001b[0m in \u001b[0;36m<module>\u001b[0;34m\u001b[0m\n\u001b[1;32m     10\u001b[0m \u001b[0mprint\u001b[0m\u001b[0;34m(\u001b[0m\u001b[0md2\u001b[0m\u001b[0;34m)\u001b[0m\u001b[0;34m\u001b[0m\u001b[0;34m\u001b[0m\u001b[0m\n\u001b[1;32m     11\u001b[0m \u001b[0;34m\u001b[0m\u001b[0m\n\u001b[0;32m---> 12\u001b[0;31m \u001b[0;32mdel\u001b[0m \u001b[0md2\u001b[0m\u001b[0;34m[\u001b[0m\u001b[0;34m'f'\u001b[0m\u001b[0;34m]\u001b[0m\u001b[0;34m\u001b[0m\u001b[0;34m\u001b[0m\u001b[0m\n\u001b[0m",
      "\u001b[0;31mKeyError\u001b[0m: 'f'"
     ]
    }
   ],
   "source": [
    "d = {\"a\": 1, \"b\": 2, \"c\": 3}\n",
    "d2 = d.copy()\n",
    "\n",
    "d2['e']= 'ET'\n",
    "print(d2)\n",
    "\n",
    "print(d)\n",
    "\n",
    "del d2['e']\n",
    "print(d2)\n",
    "\n",
    "# KeyError: 'f'\n",
    "del d2['f']"
   ]
  },
  {
   "cell_type": "markdown",
   "metadata": {},
   "source": [
    "### Traverse a Dictionary"
   ]
  },
  {
   "cell_type": "code",
   "execution_count": 192,
   "metadata": {},
   "outputs": [],
   "source": [
    "d = {\"a\": 1, \"b\": 2, \"c\": 3}"
   ]
  },
  {
   "cell_type": "code",
   "execution_count": 195,
   "metadata": {},
   "outputs": [
    {
     "name": "stdout",
     "output_type": "stream",
     "text": [
      "a 1\n",
      "b 2\n",
      "c 3\n"
     ]
    }
   ],
   "source": [
    "# 1. check keys\n",
    "\n",
    "for key in d: \n",
    "    print(key, d[key])"
   ]
  },
  {
   "cell_type": "code",
   "execution_count": 98,
   "metadata": {},
   "outputs": [
    {
     "name": "stdout",
     "output_type": "stream",
     "text": [
      "b\n"
     ]
    }
   ],
   "source": [
    "# check if certain key exist in d\n",
    "\n",
    "for key in d:\n",
    "    if key is 'b': # 'is' is the same as '=='\n",
    "        print(key)  "
   ]
  },
  {
   "cell_type": "code",
   "execution_count": 99,
   "metadata": {},
   "outputs": [
    {
     "name": "stdout",
     "output_type": "stream",
     "text": [
      "a 1\n"
     ]
    }
   ],
   "source": [
    "# check if key contains 'aeiou' in d\n",
    "\n",
    "for key in d:\n",
    "    if key in 'aeiou':\n",
    "        print(key, d[key]) # key, value     "
   ]
  },
  {
   "cell_type": "code",
   "execution_count": 198,
   "metadata": {},
   "outputs": [
    {
     "name": "stdout",
     "output_type": "stream",
     "text": [
      "('San Francisco', 8)\n",
      "('New York', 5)\n",
      "('Chicago', 3)\n",
      "('Los Angeles', 4)\n"
     ]
    }
   ],
   "source": [
    "for item in d.items():\n",
    "    print(item)"
   ]
  },
  {
   "cell_type": "code",
   "execution_count": 202,
   "metadata": {},
   "outputs": [
    {
     "name": "stdout",
     "output_type": "stream",
     "text": [
      "8\n",
      "5\n",
      "3\n",
      "4\n"
     ]
    }
   ],
   "source": [
    "# 2. check key and values\n",
    "for value in d.values():\n",
    "    print(value)\n",
    "    "
   ]
  },
  {
   "cell_type": "markdown",
   "metadata": {},
   "source": [
    "### Unpacking Dictionaries\n",
    "#### function(**dict)\n",
    "* Unpacking dictionaries using the ** operator\n",
    "* Can also use for function arguments\n",
    "* Unpacks the contents of a dictionary into the function call. "
   ]
  },
  {
   "cell_type": "code",
   "execution_count": 23,
   "metadata": {},
   "outputs": [],
   "source": [
    "d = {\"a\": 1, \"b\": 2, \"c\": 3}\n",
    "d2 = {\"d\": 4, \"e\": 5, \"f\": 6}\n",
    "d3 = {\"d\": 8, \"e\": 8, \"f\": 6}"
   ]
  },
  {
   "cell_type": "code",
   "execution_count": 36,
   "metadata": {},
   "outputs": [
    {
     "name": "stdout",
     "output_type": "stream",
     "text": [
      "{'a': 1, 'b': 2, 'c': 3, 'd': 4, 'e': 5, 'f': 6}\n",
      "d5 = {'a': 1, 'b': 2, 'c': 3}\n",
      "{'a': 1, 'b': 2, 'c': 3}\n",
      "True\n",
      "tuple: ({'d': 4, 'e': 5, 'f': 6}, {'d': 8, 'e': 8, 'f': 6})\n"
     ]
    }
   ],
   "source": [
    "# 1. combined into one dictionary\n",
    "d4 = {**d, **d2}\n",
    "print(d4)\n",
    "\n",
    "# 2. unpack\n",
    "d5 = {**d}\n",
    "print(f'd5 = {d5}')\n",
    "\n",
    "# 3. same as #2.\n",
    "d5_ = d.copy()\n",
    "print(d5_)\n",
    "print(d5 == d5_)\n",
    "\n",
    "# 4. tuple\n",
    "d6 = (d2, d3)\n",
    "print(f'tuple: {d6}')\n"
   ]
  },
  {
   "cell_type": "code",
   "execution_count": 41,
   "metadata": {
    "scrolled": true
   },
   "outputs": [
    {
     "name": "stdout",
     "output_type": "stream",
     "text": [
      "{'a': 1, 'b': 2, 'c': 3, 'd': 4, 'e': 5, 'f': 6}\n"
     ]
    }
   ],
   "source": [
    "# combine multiple dictionaries into one dictionary\n",
    "# {'a': 1, 'b': 2, 'c': 3, 'd': 4, 'e': 5, 'f': 6}\n",
    "\n",
    "d_combined = {**d, **d2, **d3} \n",
    "print(d_combined)"
   ]
  },
  {
   "cell_type": "code",
   "execution_count": 53,
   "metadata": {},
   "outputs": [
    {
     "name": "stdout",
     "output_type": "stream",
     "text": [
      "1 2 3\n",
      "6 4 5\n",
      "6 8 8\n"
     ]
    }
   ],
   "source": [
    "def combinedfun(a, b,c): # a, b, c == key[0], key[1], key[2]\n",
    "    print(a, b, c)\n",
    "    \n",
    "def combinedfun2(f, d, e): # a, b, c == key[0], key[1], key[2]\n",
    "    print(f, d, e)  \n",
    "    \n",
    "combinedfun(**d)\n",
    "combinedfun2(**d2)\n",
    "combinedfun2(**d3)"
   ]
  },
  {
   "cell_type": "code",
   "execution_count": 41,
   "metadata": {},
   "outputs": [
    {
     "name": "stdout",
     "output_type": "stream",
     "text": [
      "3\n"
     ]
    }
   ],
   "source": [
    "num = {'a': 1, 'b': 2}\n",
    "\n",
    "def addf(a=0, b=0): # set defaul value to avoid error.\n",
    "    return a + b\n",
    "\n",
    "print(addf(**num))"
   ]
  },
  {
   "cell_type": "markdown",
   "metadata": {},
   "source": [
    "### Sorted(iterable, key, reverse = False)\n",
    "* return a sorted List"
   ]
  },
  {
   "cell_type": "code",
   "execution_count": 45,
   "metadata": {},
   "outputs": [],
   "source": [
    "d = {\"San Francisco\": 1, \"New York\":2 , \"Chicago\":3, \"Los Angeles\":4}"
   ]
  },
  {
   "cell_type": "code",
   "execution_count": 46,
   "metadata": {
    "scrolled": true
   },
   "outputs": [
    {
     "name": "stdout",
     "output_type": "stream",
     "text": [
      "[('Chicago', 3), ('Los Angeles', 4), ('New York', 2), ('San Francisco', 1)]\n",
      "<class 'list'>\n"
     ]
    }
   ],
   "source": [
    "# sortting dictionary items\n",
    "\n",
    "sbKeys = sorted(d.items()) #//'sorted' already convert to a sorted list\n",
    "print(sbKeys)\n",
    "print(type(sbKeys))\n"
   ]
  },
  {
   "cell_type": "code",
   "execution_count": 50,
   "metadata": {},
   "outputs": [
    {
     "name": "stdout",
     "output_type": "stream",
     "text": [
      "[('San Francisco', 1), ('New York', 2), ('Chicago', 3), ('Los Angeles', 4)]\n"
     ]
    }
   ],
   "source": [
    "# sortting dictionary values\n",
    "\n",
    "sbValues = sorted(d.items(), key=lambda x: x[1])\n",
    "print(sbValues)"
   ]
  },
  {
   "cell_type": "code",
   "execution_count": 54,
   "metadata": {},
   "outputs": [
    {
     "name": "stdout",
     "output_type": "stream",
     "text": [
      "[('Chicago', 3), ('Los Angeles', 4), ('New York', 5), ('San Francisco', 8)]\n",
      "['San Francisco', 'New York', 'Chicago', 'Los Angeles']\n",
      "['San Francisco', 'New York', 'Chicago', 'Los Angeles']\n",
      "[8, 5, 3, 4]\n",
      "[('San Francisco', 8), ('New York', 5), ('Chicago', 3), ('Los Angeles', 4)]\n",
      "[('San Francisco', 8), ('New York', 5), ('Chicago', 3), ('Los Angeles', 4)]\n"
     ]
    }
   ],
   "source": [
    "# exercise\n",
    "\n",
    "d = {\"San Francisco\": 8, \"New York\":5 , \"Chicago\":3, \"Los Angeles\":4}\n",
    "\n",
    "def f(x):\n",
    "    return x[1]\n",
    "\n",
    "f = lambda x: x[1]\n",
    "print(sorted(d.items(), key = f))\n",
    "\n",
    "\n",
    "print(list(map(lambda x: x, d.keys())))\n",
    "print(list(map(lambda x: x, d)))\n",
    "\n",
    "print(list(map(lambda x: x, d.values())))\n",
    "\n",
    "print(list(d.items()))\n",
    "print(list(map(lambda x: x, d.items())))"
   ]
  },
  {
   "cell_type": "code",
   "execution_count": 56,
   "metadata": {},
   "outputs": [],
   "source": [
    "# dictionary within a dictionary /nested\n",
    "d = {\n",
    "    'John': {\n",
    "        'phone': '555-555',\n",
    "        'email': 'abc@yahoo.com'\n",
    "    },\n",
    "    'Peter': {\n",
    "        'phone': '666-555', \n",
    "        'email': 'peter@yahoo.com'\n",
    "    }\n",
    "}"
   ]
  },
  {
   "cell_type": "code",
   "execution_count": 65,
   "metadata": {},
   "outputs": [
    {
     "name": "stdout",
     "output_type": "stream",
     "text": [
      "['John', 'Peter']\n",
      "['John', 'Peter']\n"
     ]
    }
   ],
   "source": [
    "# list all keys in a dictionary\n",
    "\n",
    "print(list(map(lambda x:x[0], d.items())))\n",
    "\n",
    "# same as below\n",
    "print(list(d.keys()))"
   ]
  },
  {
   "cell_type": "code",
   "execution_count": 58,
   "metadata": {},
   "outputs": [
    {
     "name": "stdout",
     "output_type": "stream",
     "text": [
      "John 555-555\n",
      "Peter 666-555\n"
     ]
    }
   ],
   "source": [
    "# get names and phone numbers\n",
    "\n",
    "for key, value in d.items():\n",
    "    print(key,value['phone'])\n",
    "    "
   ]
  },
  {
   "cell_type": "code",
   "execution_count": 299,
   "metadata": {},
   "outputs": [
    {
     "data": {
      "text/plain": [
       "'555-555'"
      ]
     },
     "execution_count": 299,
     "metadata": {},
     "output_type": "execute_result"
    }
   ],
   "source": [
    "# get John's number only\n",
    "\n",
    "d['John']['phone']"
   ]
  },
  {
   "cell_type": "code",
   "execution_count": 66,
   "metadata": {},
   "outputs": [
    {
     "name": "stdout",
     "output_type": "stream",
     "text": [
      "('John', {'phone': '555-555', 'email': 'abc@yahoo.com'})\n",
      "('Peter', {'phone': '666-555', 'email': 'peter@yahoo.com'})\n"
     ]
    }
   ],
   "source": [
    "# get first 2 contacts:\n",
    "# quick way\n",
    "\n",
    "a = list(d.items())\n",
    "print(a[0])\n",
    "print(a[1])"
   ]
  },
  {
   "cell_type": "code",
   "execution_count": 70,
   "metadata": {},
   "outputs": [
    {
     "name": "stdout",
     "output_type": "stream",
     "text": [
      "('John', {'phone': '555-555', 'email': 'abc@yahoo.com'})\n",
      "('Peter', {'phone': '666-555', 'email': 'peter@yahoo.com'})\n"
     ]
    }
   ],
   "source": [
    "# print out first 2 random contacts (dictionary is not ordered)\n",
    "\n",
    "contacts = {\n",
    "    'John': {\n",
    "        'phone': '555-555',\n",
    "        'email': 'abc@yahoo.com'\n",
    "    },\n",
    "    'Peter': {\n",
    "        'phone': '666-555', \n",
    "        'email': 'peter@yahoo.com'\n",
    "    }\n",
    "}\n",
    "\n",
    "a = list(contacts.items())\n",
    "i = 0\n",
    "while i < 2:\n",
    "    print(a[i])\n",
    "    i +=1\n",
    "\n",
    "# for i in range(0,2):\n",
    "#     print(a[i])"
   ]
  },
  {
   "cell_type": "markdown",
   "metadata": {},
   "source": [
    "## Access dictionary item"
   ]
  },
  {
   "cell_type": "code",
   "execution_count": 72,
   "metadata": {},
   "outputs": [],
   "source": [
    "d = {1:\"San Francisco\", 2:\"New York\", 3:\"Chicago\", 4:\"Los Angeles\"}"
   ]
  },
  {
   "cell_type": "code",
   "execution_count": 73,
   "metadata": {},
   "outputs": [
    {
     "name": "stdout",
     "output_type": "stream",
     "text": [
      "dict_items([(1, 'San Francisco'), (2, 'New York'), (3, 'Chicago'), (4, 'Los Angeles')])\n",
      "<class 'dict_items'>\n"
     ]
    }
   ],
   "source": [
    "print(d.items())\n",
    "print(type(d.items()))"
   ]
  },
  {
   "cell_type": "code",
   "execution_count": 80,
   "metadata": {},
   "outputs": [
    {
     "data": {
      "text/plain": [
       "[(1, 'San Francisco'), (2, 'New York'), (3, 'Chicago'), (4, 'Los Angeles')]"
      ]
     },
     "execution_count": 80,
     "metadata": {},
     "output_type": "execute_result"
    }
   ],
   "source": [
    "list(d.items())"
   ]
  },
  {
   "cell_type": "code",
   "execution_count": 82,
   "metadata": {},
   "outputs": [
    {
     "data": {
      "text/plain": [
       "'San Francisco'"
      ]
     },
     "execution_count": 82,
     "metadata": {},
     "output_type": "execute_result"
    }
   ],
   "source": [
    "list(d.items())[0][1]"
   ]
  },
  {
   "cell_type": "code",
   "execution_count": 9,
   "metadata": {},
   "outputs": [
    {
     "name": "stdout",
     "output_type": "stream",
     "text": [
      "[(1, 'San Francisco'), (2, 'New York'), (3, 'Chicago'), (4, 'Los Angeles')]\n",
      "(1, 'San Francisco')\n",
      "1\n",
      "San Francisco\n",
      "dict_keys([1, 2, 3, 4])\n",
      "dict_values(['San Francisco', 'New York', 'Chicago', 'Los Angeles'])\n",
      "Los Angeles\n"
     ]
    }
   ],
   "source": [
    "# accessing dict\n",
    "# dict is unordered\n",
    "# list is ordered\n",
    "\n",
    "itemList = list(d.items())\n",
    "print(itemList)\n",
    "\n",
    "print(itemList[0])\n",
    "print(itemList[0][0])\n",
    "print(itemList[0][1])\n",
    "\n",
    "print(d.keys())\n",
    "print(d.values())\n",
    "\n",
    "print(d[4]) ##. print value of key=4\n",
    "\n"
   ]
  },
  {
   "cell_type": "markdown",
   "metadata": {},
   "source": [
    "### Count from multiple lists"
   ]
  },
  {
   "cell_type": "code",
   "execution_count": 149,
   "metadata": {},
   "outputs": [
    {
     "name": "stdout",
     "output_type": "stream",
     "text": [
      "['aa', 'bb', 'ab', 'ac', 'bb', 'aa', 'aa', 'aa', 'bb', 'ab', 'ac', 'bb', 'aa', 'aa']\n"
     ]
    }
   ],
   "source": [
    "afile = ['aa','bb','ab','ac','bb','aa','aa']\n",
    "bfile = ['aa','bb','ab','ac','bb','aa','aa']\n",
    "\n",
    "\n",
    "dfile = afile + bfile\n",
    "print(dfile)\n"
   ]
  },
  {
   "cell_type": "code",
   "execution_count": 150,
   "metadata": {
    "scrolled": true
   },
   "outputs": [
    {
     "name": "stdout",
     "output_type": "stream",
     "text": [
      "{'aa': 6, 'bb': 4, 'ab': 2, 'ac': 2}\n"
     ]
    }
   ],
   "source": [
    "# method 1\n",
    "counter = {}\n",
    "for i in dfile:\n",
    "    if i not in counter:\n",
    "        counter[i] = 1\n",
    "    else:\n",
    "        counter[i] += 1\n",
    "        \n",
    "print(counter)"
   ]
  },
  {
   "cell_type": "code",
   "execution_count": 157,
   "metadata": {},
   "outputs": [
    {
     "name": "stdout",
     "output_type": "stream",
     "text": [
      "{'aa': 6, 'bb': 4, 'ab': 2, 'ac': 2}\n"
     ]
    }
   ],
   "source": [
    "# write a counter function\n",
    "\n",
    "   \n",
    "\n",
    "def counter(afile):\n",
    "    count = {} \n",
    "    for i in afile:\n",
    "        if i not in count:\n",
    "            count[i] = 1\n",
    "        else:\n",
    "            count[i] += 1\n",
    "    return count\n",
    "\n",
    "print(counter(dfile))"
   ]
  },
  {
   "cell_type": "code",
   "execution_count": 158,
   "metadata": {},
   "outputs": [
    {
     "name": "stdout",
     "output_type": "stream",
     "text": [
      "[['aa', 'bb', 'ab', 'ac', 'bb', 'aa', 'aa'], ['aa', 'bb', 'ab', 'ac', 'bb', 'aa', 'aa']]\n",
      "dict_items([('aa', 6), ('bb', 4), ('ab', 2), ('ac', 2)])\n"
     ]
    }
   ],
   "source": [
    "# method 2: write a counter function\n",
    "afile = ['aa','bb','ab','ac','bb','aa','aa']\n",
    "bfile = ['aa','bb','ab','ac','bb','aa','aa']\n",
    "\n",
    "file_list = [afile, bfile]\n",
    "print(file_list)\n",
    "\n",
    "\n",
    "# count & add to a dictionary\n",
    "flights = {}\n",
    "\n",
    "def addFlight(file):\n",
    "    for i in file:\n",
    "        if i in flights:\n",
    "            flights[i] += 1\n",
    "        else:\n",
    "            flights[i] = 1\n",
    "\n",
    "for j in file_list:\n",
    "    addFlight(j)\n",
    "\n",
    "print(flights.items())"
   ]
  }
 ],
 "metadata": {
  "kernelspec": {
   "display_name": "Python 3",
   "language": "python",
   "name": "python3"
  },
  "language_info": {
   "codemirror_mode": {
    "name": "ipython",
    "version": 3
   },
   "file_extension": ".py",
   "mimetype": "text/x-python",
   "name": "python",
   "nbconvert_exporter": "python",
   "pygments_lexer": "ipython3",
   "version": "3.7.4"
  }
 },
 "nbformat": 4,
 "nbformat_minor": 2
}
