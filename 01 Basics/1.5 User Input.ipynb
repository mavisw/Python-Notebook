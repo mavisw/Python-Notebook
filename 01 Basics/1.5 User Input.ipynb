{
 "cells": [
  {
   "cell_type": "markdown",
   "metadata": {},
   "source": [
    "# User Input\n",
    "* input() – will wait for user to enter text and return the result as a <b>string</b>\n",
    "* Need to convert the returned string to the correct datatype"
   ]
  },
  {
   "cell_type": "code",
   "execution_count": 3,
   "metadata": {},
   "outputs": [
    {
     "name": "stdout",
     "output_type": "stream",
     "text": [
      "What do you want? 4\n",
      "<class 'str'>\n"
     ]
    }
   ],
   "source": [
    "result = input(\"What do you want? \") \n",
    "print(type(result))"
   ]
  },
  {
   "cell_type": "markdown",
   "metadata": {},
   "source": [
    "### print( )\n",
    "* print() normally prints a newline for each call\n",
    "* Can stop that or change the default character(s) to be printed"
   ]
  },
  {
   "cell_type": "code",
   "execution_count": 7,
   "metadata": {},
   "outputs": [
    {
     "name": "stdout",
     "output_type": "stream",
     "text": [
      "hello\n",
      "hello!hello "
     ]
    }
   ],
   "source": [
    "print(\"hello\") # == print(\"hello\", end=\"\\n\")\n",
    "print(\"hello\", end=\"!\")"
   ]
  },
  {
   "cell_type": "code",
   "execution_count": 13,
   "metadata": {},
   "outputs": [
    {
     "name": "stdout",
     "output_type": "stream",
     "text": [
      "enter cost: 10\n",
      "cost is 10\n"
     ]
    }
   ],
   "source": [
    "# Write a function to prompt user input\n",
    "\n",
    "def cost():\n",
    "    a = input('enter cost: ')\n",
    "    print(f'cost is {a}')\n",
    "\n",
    "cost()"
   ]
  },
  {
   "cell_type": "code",
   "execution_count": null,
   "metadata": {},
   "outputs": [],
   "source": []
  }
 ],
 "metadata": {
  "kernelspec": {
   "display_name": "Python 3",
   "language": "python",
   "name": "python3"
  },
  "language_info": {
   "codemirror_mode": {
    "name": "ipython",
    "version": 3
   },
   "file_extension": ".py",
   "mimetype": "text/x-python",
   "name": "python",
   "nbconvert_exporter": "python",
   "pygments_lexer": "ipython3",
   "version": "3.7.4"
  }
 },
 "nbformat": 4,
 "nbformat_minor": 2
}
