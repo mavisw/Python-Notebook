{
 "cells": [
  {
   "cell_type": "markdown",
   "metadata": {},
   "source": [
    "## Exceptions\n",
    "Exceptions are unexpected events that occur during execution of a program \n",
    "* logical errors\n",
    "* unanticipated situations\n",
    "* Handling of exceptions\n",
    "    * better robustness in software\n",
    "* Exception mechanism involves 3 parts:\n",
    "    * try block\n",
    "    * raise exceptions\n",
    "    * catch exceptions"
   ]
  },
  {
   "cell_type": "markdown",
   "metadata": {},
   "source": [
    "### Try... Except\n",
    "* The try block lets you test a block of code for errors.\n",
    "* The except block lets you handle the error.\n",
    "* The finally block lets you execute code, regardless of the result of the try- and except blocks."
   ]
  },
  {
   "cell_type": "code",
   "execution_count": 1,
   "metadata": {},
   "outputs": [
    {
     "ename": "ValueError",
     "evalue": "'cat' is not in list",
     "output_type": "error",
     "traceback": [
      "\u001b[0;31m---------------------------------------------------------------------------\u001b[0m",
      "\u001b[0;31mValueError\u001b[0m                                Traceback (most recent call last)",
      "\u001b[0;32m<ipython-input-1-c7b77314316e>\u001b[0m in \u001b[0;36m<module>\u001b[0;34m\u001b[0m\n\u001b[1;32m      1\u001b[0m \u001b[0manimals\u001b[0m \u001b[0;34m=\u001b[0m \u001b[0;34m[\u001b[0m\u001b[0;34m'man'\u001b[0m\u001b[0;34m,\u001b[0m \u001b[0;34m'bear'\u001b[0m\u001b[0;34m,\u001b[0m \u001b[0;34m'pig'\u001b[0m\u001b[0;34m]\u001b[0m\u001b[0;34m\u001b[0m\u001b[0;34m\u001b[0m\u001b[0m\n\u001b[1;32m      2\u001b[0m \u001b[0;34m\u001b[0m\u001b[0m\n\u001b[0;32m----> 3\u001b[0;31m \u001b[0mcat_index\u001b[0m \u001b[0;34m=\u001b[0m \u001b[0manimals\u001b[0m\u001b[0;34m.\u001b[0m\u001b[0mindex\u001b[0m\u001b[0;34m(\u001b[0m\u001b[0;34m'cat'\u001b[0m\u001b[0;34m)\u001b[0m  \u001b[0;31m#error\u001b[0m\u001b[0;34m\u001b[0m\u001b[0;34m\u001b[0m\u001b[0m\n\u001b[0m\u001b[1;32m      4\u001b[0m \u001b[0mprint\u001b[0m\u001b[0;34m(\u001b[0m\u001b[0mcat_index\u001b[0m\u001b[0;34m)\u001b[0m\u001b[0;34m\u001b[0m\u001b[0;34m\u001b[0m\u001b[0m\n",
      "\u001b[0;31mValueError\u001b[0m: 'cat' is not in list"
     ]
    }
   ],
   "source": [
    "# ex. query index of 'cat', a non-existing value in a list.\n",
    "animals = ['man', 'bear', 'pig']\n",
    "\n",
    "cat_index = animals.index('cat')  ###. error\n",
    "print(cat_index)"
   ]
  },
  {
   "cell_type": "code",
   "execution_count": 6,
   "metadata": {},
   "outputs": [
    {
     "name": "stdout",
     "output_type": "stream",
     "text": [
      "no cat in the list\n"
     ]
    }
   ],
   "source": [
    "# use try except to handle error\n",
    "animals = ['man', 'bear', 'pig']\n",
    "\n",
    "try:\n",
    "    cat_index = animals.index('cat')  ###. if true, do nothing\n",
    "except:\n",
    "    cat_index = 'no cat in the list'\n",
    "\n",
    "print(cat_index)"
   ]
  },
  {
   "cell_type": "code",
   "execution_count": 7,
   "metadata": {},
   "outputs": [
    {
     "name": "stdout",
     "output_type": "stream",
     "text": [
      "2\n"
     ]
    }
   ],
   "source": [
    "# use try except to handle error ==> if true\n",
    "animals = ['man', 'bear', 'cat', 'pig']\n",
    "\n",
    "try:\n",
    "    cat_index = animals.index('cat')  \n",
    "except:\n",
    "    cat_index = 'no cat in the list'\n",
    "\n",
    "print(cat_index)"
   ]
  },
  {
   "cell_type": "code",
   "execution_count": null,
   "metadata": {},
   "outputs": [],
   "source": [
    "age = -1 # an initially invalid choice \n",
    "while age <= 0:\n",
    "    try:\n",
    "        age = int(input(\"Enter your age in years:\")) \n",
    "        if age <= 0:\n",
    "            print(\"Your age must be positive\")\n",
    "    \n",
    "    except (ValueError, EOFError): \n",
    "        print(\"Invalid response\")"
   ]
  },
  {
   "cell_type": "code",
   "execution_count": 29,
   "metadata": {},
   "outputs": [
    {
     "name": "stdout",
     "output_type": "stream",
     "text": [
      "age or age2 must be int type\n"
     ]
    }
   ],
   "source": [
    "age = 10\n",
    "age2 = 'yuki'\n",
    "\n",
    "try:\n",
    "    age3 = age/age2\n",
    "#     if not type(age) or type(age2) == int: # optional\n",
    "#         print('wrong')\n",
    "except TypeError:\n",
    "    print('age or age2 must be int type')\n",
    "\n",
    "except Another:\n",
    "    print('something else is wrong')"
   ]
  },
  {
   "cell_type": "markdown",
   "metadata": {},
   "source": [
    "### Assert\n",
    "* The assert statement can be used to test a condition\n",
    "* Useful for debugging and testing\n",
    "* Can provide optional message if the testing condition is not satisfied"
   ]
  },
  {
   "cell_type": "code",
   "execution_count": 5,
   "metadata": {},
   "outputs": [
    {
     "ename": "AssertionError",
     "evalue": "either x should be 'hello' or y should be 8",
     "output_type": "error",
     "traceback": [
      "\u001b[0;31m---------------------------------------------------------------------------\u001b[0m",
      "\u001b[0;31mAssertionError\u001b[0m                            Traceback (most recent call last)",
      "\u001b[0;32m<ipython-input-5-a517f8a96a66>\u001b[0m in \u001b[0;36m<module>\u001b[0;34m\u001b[0m\n\u001b[1;32m      4\u001b[0m \u001b[0mx\u001b[0m \u001b[0;34m=\u001b[0m \u001b[0;34m\"hello\"\u001b[0m\u001b[0;34m\u001b[0m\u001b[0;34m\u001b[0m\u001b[0m\n\u001b[1;32m      5\u001b[0m \u001b[0my\u001b[0m \u001b[0;34m=\u001b[0m \u001b[0;36m5\u001b[0m\u001b[0;34m\u001b[0m\u001b[0;34m\u001b[0m\u001b[0m\n\u001b[0;32m----> 6\u001b[0;31m \u001b[0;32massert\u001b[0m \u001b[0mx\u001b[0m \u001b[0;34m==\u001b[0m \u001b[0;34m\"goodbye\"\u001b[0m \u001b[0;32mor\u001b[0m \u001b[0my\u001b[0m \u001b[0;34m==\u001b[0m \u001b[0;36m8\u001b[0m\u001b[0;34m,\u001b[0m \u001b[0;34m\"either x should be 'hello' or y should be 8\"\u001b[0m\u001b[0;34m\u001b[0m\u001b[0;34m\u001b[0m\u001b[0m\n\u001b[0m",
      "\u001b[0;31mAssertionError\u001b[0m: either x should be 'hello' or y should be 8"
     ]
    }
   ],
   "source": [
    "# assert - test if a condition returns True\n",
    "# example 1\n",
    "\n",
    "x = \"hello\"\n",
    "y = 5\n",
    "assert x == \"goodbye\" or y == 8, \"either x should be 'hello' or y should be 8\""
   ]
  },
  {
   "cell_type": "code",
   "execution_count": 8,
   "metadata": {},
   "outputs": [
    {
     "ename": "AssertionError",
     "evalue": "y should be 8",
     "output_type": "error",
     "traceback": [
      "\u001b[0;31m---------------------------------------------------------------------------\u001b[0m",
      "\u001b[0;31mAssertionError\u001b[0m                            Traceback (most recent call last)",
      "\u001b[0;32m<ipython-input-8-e547a804f2b6>\u001b[0m in \u001b[0;36m<module>\u001b[0;34m\u001b[0m\n\u001b[1;32m      3\u001b[0m \u001b[0;34m\u001b[0m\u001b[0m\n\u001b[1;32m      4\u001b[0m \u001b[0my\u001b[0m \u001b[0;34m=\u001b[0m \u001b[0;36m2\u001b[0m\u001b[0;34m+\u001b[0m\u001b[0;36m5\u001b[0m\u001b[0;34m\u001b[0m\u001b[0;34m\u001b[0m\u001b[0m\n\u001b[0;32m----> 5\u001b[0;31m \u001b[0;32massert\u001b[0m \u001b[0my\u001b[0m \u001b[0;34m==\u001b[0m \u001b[0;36m8\u001b[0m\u001b[0;34m,\u001b[0m \u001b[0;34m\"y should be 8\"\u001b[0m\u001b[0;34m\u001b[0m\u001b[0;34m\u001b[0m\u001b[0m\n\u001b[0m",
      "\u001b[0;31mAssertionError\u001b[0m: y should be 8"
     ]
    }
   ],
   "source": [
    "# assert - test if y == 8. Do nothing if it's true, else return assert msg.\n",
    "# example 2\n",
    "\n",
    "y = 2+5\n",
    "assert y == 8, \"y should be 8\""
   ]
  },
  {
   "cell_type": "code",
   "execution_count": 10,
   "metadata": {},
   "outputs": [
    {
     "name": "stdout",
     "output_type": "stream",
     "text": [
      "67.33\n"
     ]
    }
   ],
   "source": [
    "# assert \n",
    "# example 3\n",
    "\n",
    "def avg(numbers):\n",
    "    assert len(numbers) != 0, 'Number list should not be empty' \n",
    "    return round(sum(numbers)/len(numbers), 2)\n",
    "\n",
    "numbers = [62, 65, 75] \n",
    "print(avg(numbers))\n",
    "\n",
    "# numbers = [] \n",
    "# print(avg(numbers))"
   ]
  }
 ],
 "metadata": {
  "kernelspec": {
   "display_name": "Python 3",
   "language": "python",
   "name": "python3"
  },
  "language_info": {
   "codemirror_mode": {
    "name": "ipython",
    "version": 3
   },
   "file_extension": ".py",
   "mimetype": "text/x-python",
   "name": "python",
   "nbconvert_exporter": "python",
   "pygments_lexer": "ipython3",
   "version": "3.7.4"
  }
 },
 "nbformat": 4,
 "nbformat_minor": 2
}
