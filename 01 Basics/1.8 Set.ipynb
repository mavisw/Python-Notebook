{
 "cells": [
  {
   "cell_type": "markdown",
   "metadata": {},
   "source": [
    "# [Set](https://www.w3schools.com/python/python_sets.asp)\n",
    "Sets are collection of elements in Python\n",
    "* mutable\n",
    "* unordered\n",
    "* no index\n",
    "* distinct (eliminate duplicate entries)\n",
    "* very fast membership testing: O(1)\n",
    "* enclosed in { } and comma separated"
   ]
  },
  {
   "cell_type": "code",
   "execution_count": 36,
   "metadata": {},
   "outputs": [
    {
     "name": "stdout",
     "output_type": "stream",
     "text": [
      "{'b', 'a', 'c'}\n"
     ]
    }
   ],
   "source": [
    "aSetList = {'a', 'a', 'b','c'}\n",
    "print(aSetList)"
   ]
  },
  {
   "cell_type": "code",
   "execution_count": 37,
   "metadata": {},
   "outputs": [
    {
     "name": "stdout",
     "output_type": "stream",
     "text": [
      "{'b', 'a', 'c'}\n",
      "{('b', 2), ('c', 2), ('a', 6)}\n"
     ]
    }
   ],
   "source": [
    "# dictionary => set of tuples\n",
    "\n",
    "d = {'a': 3, 'b':2, 'a':6, 'c':2}\n",
    "\n",
    "print(set(d))\n",
    "print(set(d.items()))"
   ]
  },
  {
   "cell_type": "code",
   "execution_count": 38,
   "metadata": {},
   "outputs": [],
   "source": [
    "# Examples\n",
    "\n",
    "empty_dict = {} # <class 'dict'>\n",
    "d = {'a': 3, 'b':2, 'a':6, 'c':2}\n",
    "\n",
    "empty_set = set()\n",
    "empty_set = set(d)\n",
    "\n",
    "number_set = set([1, 3, 5, 7, 9, 3, 1, 8])\n",
    "mixed_set = set([1, 3.5, \"abc\"])\n",
    "fruit_set = set([ \"apple\", \"banana\", \"orange\", \"plum\", \"banana\"])\n"
   ]
  },
  {
   "cell_type": "code",
   "execution_count": 39,
   "metadata": {},
   "outputs": [
    {
     "name": "stdout",
     "output_type": "stream",
     "text": [
      "{'a': 6, 'b': 2, 'c': 2}\n",
      "{1, 3, 5, 7, 8, 9}\n",
      "{1, 3.5, 'abc'}\n",
      "{'orange', 'apple', 'banana', 'plum'}\n"
     ]
    }
   ],
   "source": [
    "print(d)\n",
    "print(number_set)\n",
    "print(mixed_set) #. remove redundant values\n",
    "print(fruit_set)"
   ]
  },
  {
   "cell_type": "markdown",
   "metadata": {},
   "source": [
    "### Combine two sets"
   ]
  },
  {
   "cell_type": "code",
   "execution_count": 113,
   "metadata": {},
   "outputs": [
    {
     "name": "stdout",
     "output_type": "stream",
     "text": [
      "{1, 'banana', 3, 5, 7, 8, 9, 'plum', 'orange', 'apple'}\n",
      "{3}\n",
      "{1, 'banana', 3, 5, 7, 8, 9, 'plum', 'orange', 'apple'}\n"
     ]
    }
   ],
   "source": [
    "# VIP. unite two sets ==> |\n",
    "number_set = set([1, 3, 5, 7, 9, 3, 1, 8])\n",
    "fruit_set = set([ \"apple\", 3,\"banana\", \"orange\", \"plum\", \"banana\"])\n",
    "print(number_set | fruit_set)   ###. union\n",
    "print(number_set & fruit_set)   ###. intersaction\n",
    "\n",
    "\n",
    "# combine two lists ==> +\n",
    "number = [1, 3, 5, 7, 9, 3, 1, 8]\n",
    "fruit = [ \"apple\", \"banana\", \"orange\", \"plum\", \"banana\"]\n",
    "print(set(number + fruit))"
   ]
  },
  {
   "cell_type": "code",
   "execution_count": 103,
   "metadata": {},
   "outputs": [
    {
     "name": "stdout",
     "output_type": "stream",
     "text": [
      "{'orange', 'apple', 'banana', 'plum'}\n",
      "{1, 3, 5, 7, 8, 9}\n"
     ]
    }
   ],
   "source": [
    "print(number_set and fruit_set)\n",
    "print(number_set or fruit_set)"
   ]
  },
  {
   "cell_type": "code",
   "execution_count": 66,
   "metadata": {},
   "outputs": [
    {
     "name": "stdout",
     "output_type": "stream",
     "text": [
      "['a', '4', 3, 534, 4534, 'b', 'a', 'b']\n",
      "{3, 'a', 'b', 4534, 534, '4'}\n"
     ]
    }
   ],
   "source": [
    "lista = ['a','4',3,534,4534,'b','a','b']\n",
    "print(lista)\n",
    "\n",
    "setlista = set(lista)\n",
    "print(setlista)"
   ]
  },
  {
   "cell_type": "markdown",
   "metadata": {},
   "source": [
    "## Methods: set and list\n",
    "- add\n",
    "- append\n",
    "- extend\n",
    "- discard\n",
    "- remove\n",
    "- pop\n",
    "- clear"
   ]
  },
  {
   "cell_type": "code",
   "execution_count": 95,
   "metadata": {},
   "outputs": [],
   "source": [
    "# set and list\n",
    "\n",
    "aSet = {2,4,6}\n",
    "aList = ['a','b']"
   ]
  },
  {
   "cell_type": "code",
   "execution_count": 101,
   "metadata": {},
   "outputs": [
    {
     "data": {
      "text/plain": [
       "'a'"
      ]
     },
     "execution_count": 101,
     "metadata": {},
     "output_type": "execute_result"
    }
   ],
   "source": [
    "# add a value to a set\n",
    "aSet.add(5)\n",
    "\n",
    "# add a value or a set of values to a list\n",
    "aList.append(5)\n",
    "aList.extend([1,3, 'x'])\n",
    "\n",
    "# aSet.remove(2) # KeyError: 2\n",
    "aSet.discard(2)\n",
    "\n",
    "# aList.remove('l')\n",
    "\n",
    "aSet.pop() #random discard the last one\n",
    "aList.pop(0) # remove first index value"
   ]
  },
  {
   "cell_type": "code",
   "execution_count": null,
   "metadata": {},
   "outputs": [],
   "source": [
    "aSet.clear()\n",
    "aList.clear()"
   ]
  },
  {
   "cell_type": "code",
   "execution_count": 79,
   "metadata": {},
   "outputs": [
    {
     "name": "stdout",
     "output_type": "stream",
     "text": [
      "{'o', 'l', 'e'}\n",
      "['l', 'l', 'o', 5, 1, 3, 'x', 5, 1, 3, 'x']\n"
     ]
    }
   ],
   "source": [
    "print(aSet)\n",
    "print(aList)"
   ]
  },
  {
   "cell_type": "markdown",
   "metadata": {},
   "source": [
    "### Set Operations\n",
    "* Use set operations to remove redundancy"
   ]
  },
  {
   "cell_type": "code",
   "execution_count": 116,
   "metadata": {},
   "outputs": [
    {
     "name": "stdout",
     "output_type": "stream",
     "text": [
      "{'i', 'o', 'z'}\n",
      "{'r', 'a', 'n', 'i', 'k', 'z', 's', 'o'}\n",
      "{'n', 'r', 'a'}\n"
     ]
    }
   ],
   "source": [
    "# VIP\n",
    "\n",
    "a = set(\"arizona\")\n",
    "b = set(\"arkansas\")\n",
    "\n",
    "print(a-b) # only keep <= a\n",
    "# print(a+b) # TypeError ==> + works for lists\n",
    "\n",
    "print(a|b) #  union\n",
    "print(a & b) # intersaction"
   ]
  },
  {
   "cell_type": "code",
   "execution_count": 118,
   "metadata": {
    "collapsed": true
   },
   "outputs": [
    {
     "name": "stdout",
     "output_type": "stream",
     "text": [
      "['a', 'r', 'i', 'z', 'o', 'n', 'a', 'a', 'r', 'k', 'a', 'n', 's', 'a', 's']\n"
     ]
    }
   ],
   "source": [
    "# list concatenation\n",
    "\n",
    "c = list(\"arizona\")\n",
    "d = list(\"arkansas\")\n",
    "\n",
    "print(c+d)"
   ]
  }
 ],
 "metadata": {
  "kernelspec": {
   "display_name": "Python 3",
   "language": "python",
   "name": "python3"
  },
  "language_info": {
   "codemirror_mode": {
    "name": "ipython",
    "version": 3
   },
   "file_extension": ".py",
   "mimetype": "text/x-python",
   "name": "python",
   "nbconvert_exporter": "python",
   "pygments_lexer": "ipython3",
   "version": "3.7.4"
  }
 },
 "nbformat": 4,
 "nbformat_minor": 2
}
