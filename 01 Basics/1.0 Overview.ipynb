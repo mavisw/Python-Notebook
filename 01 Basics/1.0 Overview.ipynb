{
 "cells": [
  {
   "cell_type": "markdown",
   "metadata": {},
   "source": [
    "# Philosophy\n",
    "\n",
    "* Beautiful is better than ugly\n",
    "* Explicit is better than implicit\n",
    "* Simple is better than complex\n",
    "* Complex is better than complicated\n",
    "* Readabilit counts"
   ]
  },
  {
   "cell_type": "markdown",
   "metadata": {},
   "source": [
    "# Terminology\n",
    "\n",
    "* [Big O Notation](https://www.youtube.com/watch?v=D6xkbGLQesk): Time it takes to run your function.\n",
    "\n",
    "* Read-Eval-Print-Loop (REPL): Python is a interactive top-level language using interactive shell(Unix/Linux). It read user input, evaluate code, print results, and loop back to step 1.\n"
   ]
  },
  {
   "cell_type": "markdown",
   "metadata": {},
   "source": [
    "# Python Coding Questions\n",
    "\n",
    "1. How do you debug a Python program?\n",
    "2. What is <Yield> Keyword in Python?\n",
    "3. How to convert a list into a string?\n",
    "4. How to convert a list into a tuple?\n",
    "5. How to convert a list into a set?\n",
    "6. How to count the occurrences of a particular element in the list?\n",
    "7. What is NumPy array?\n",
    "8. How can you create Empty NumPy Array In Python?\n",
    "9. What is a negative index in Python?\n",
    "10. How do you Concatenate Strings in Python?"
   ]
  },
  {
   "cell_type": "markdown",
   "metadata": {},
   "source": [
    "# Types of Data\n",
    "\n",
    "* bool: Boolean\n",
    "* int: integer\n",
    "* float: floating-point number\n",
    "* list: mutable sequence of objects\n",
    "* tuple: immutable sequence of objects\n",
    "* str: character\n",
    "* set: unordered set of distinct objects\n",
    "* frozenset: immutable form of set class\n",
    "* dict: associative mapping (aka dictionary)"
   ]
  },
  {
   "cell_type": "markdown",
   "metadata": {},
   "source": [
    "# Python Built-in Data Types\n",
    "\n",
    "* Numeric: int, float, complex\n",
    "* Binary: byte, byearray\n",
    "* True/False: bool\n",
    "* Text: string\n",
    "* Collections: list, tuple, set, dict, range"
   ]
  },
  {
   "cell_type": "markdown",
   "metadata": {},
   "source": [
    "# String"
   ]
  },
  {
   "cell_type": "code",
   "execution_count": 2,
   "metadata": {},
   "outputs": [],
   "source": [
    "aString = \"hello Python 123!\""
   ]
  },
  {
   "cell_type": "markdown",
   "metadata": {},
   "source": [
    "## String Methods"
   ]
  },
  {
   "cell_type": "code",
   "execution_count": 3,
   "metadata": {},
   "outputs": [
    {
     "data": {
      "text/plain": [
       "False"
      ]
     },
     "execution_count": 3,
     "metadata": {},
     "output_type": "execute_result"
    }
   ],
   "source": [
    "aString.isalpha()"
   ]
  },
  {
   "cell_type": "code",
   "execution_count": 4,
   "metadata": {},
   "outputs": [
    {
     "data": {
      "text/plain": [
       "False"
      ]
     },
     "execution_count": 4,
     "metadata": {},
     "output_type": "execute_result"
    }
   ],
   "source": [
    "aString.isdigit()"
   ]
  },
  {
   "cell_type": "code",
   "execution_count": 5,
   "metadata": {
    "collapsed": true
   },
   "outputs": [
    {
     "data": {
      "text/plain": [
       "'hello Python 323!'"
      ]
     },
     "execution_count": 5,
     "metadata": {},
     "output_type": "execute_result"
    }
   ],
   "source": [
    "aString.replace('1','3' ) "
   ]
  },
  {
   "cell_type": "code",
   "execution_count": 13,
   "metadata": {
    "collapsed": true
   },
   "outputs": [
    {
     "name": "stdout",
     "output_type": "stream",
     "text": [
      "hello PythonBo, I am HAL\n"
     ]
    }
   ],
   "source": [
    "# String Formating\n",
    "# >> hello PythonBo, I am HAL\n",
    "\n",
    "name = \"Python\"\n",
    "machine = \"HAL\"\n",
    "\n",
    "print('hello {0}, I am {1}'.format(name,machine))"
   ]
  },
  {
   "cell_type": "code",
   "execution_count": 17,
   "metadata": {
    "collapsed": true
   },
   "outputs": [
    {
     "name": "stdout",
     "output_type": "stream",
     "text": [
      "Hello I am PythonBo. I am from HAL.\n"
     ]
    }
   ],
   "source": [
    "print(f'Hello I am {name}. I am from {machine}.')"
   ]
  },
  {
   "cell_type": "markdown",
   "metadata": {},
   "source": [
    "# Boolean"
   ]
  },
  {
   "cell_type": "code",
   "execution_count": 48,
   "metadata": {
    "collapsed": true
   },
   "outputs": [
    {
     "name": "stdout",
     "output_type": "stream",
     "text": [
      "1\n",
      "True\n",
      "None\n"
     ]
    }
   ],
   "source": [
    "# Boolean & None\n",
    "\n",
    "python_course = True\n",
    "java_course = False\n",
    "aliens_found = None\n",
    "\n",
    "print(int(python_course)) #. 1 == True\n",
    "print(str(python_course))\n",
    "\n",
    "print(aliens_found) # doesn't exist"
   ]
  },
  {
   "cell_type": "code",
   "execution_count": 3,
   "metadata": {
    "collapsed": true
   },
   "outputs": [
    {
     "name": "stdout",
     "output_type": "stream",
     "text": [
      "True\n"
     ]
    }
   ],
   "source": [
    "# if-else statment only execute True condition\n",
    "\n",
    "a = True\n",
    "if a != True: # a == false, which is false\n",
    "    print('false, will not execute')\n",
    "\n",
    "b = False\n",
    "if b == True:\n",
    "    print('b = True, will not execute')\n",
    "\n",
    "print(b == False)"
   ]
  },
  {
   "cell_type": "code",
   "execution_count": 54,
   "metadata": {
    "collapsed": true
   },
   "outputs": [
    {
     "name": "stdout",
     "output_type": "stream",
     "text": [
      "a is False\n"
     ]
    }
   ],
   "source": [
    "a = False\n",
    "# print(a)\n",
    "\n",
    "if a:\n",
    "    print('a is True')\n",
    "    \n",
    "else:\n",
    "    print('a is False')"
   ]
  },
  {
   "cell_type": "code",
   "execution_count": 70,
   "metadata": {
    "collapsed": true
   },
   "outputs": [
    {
     "name": "stdout",
     "output_type": "stream",
     "text": [
      "0\n",
      "5\n"
     ]
    }
   ],
   "source": [
    "def foos(num):\n",
    "\n",
    "    if num < 5:\n",
    "        num = 0 \n",
    "        \n",
    "    elif num < 10: \n",
    "        num = 5\n",
    "    else:\n",
    "        num = 999\n",
    "    print(num)\n",
    "    \n",
    "foos(3) ## once the first match is found, later conditions will be skipped\n",
    "foos(6)"
   ]
  },
  {
   "cell_type": "code",
   "execution_count": 63,
   "metadata": {
    "collapsed": true
   },
   "outputs": [
    {
     "data": {
      "text/plain": [
       "False"
      ]
     },
     "execution_count": 63,
     "metadata": {},
     "output_type": "execute_result"
    }
   ],
   "source": [
    "True is True and True is False"
   ]
  },
  {
   "cell_type": "code",
   "execution_count": 64,
   "metadata": {
    "collapsed": true
   },
   "outputs": [
    {
     "data": {
      "text/plain": [
       "True"
      ]
     },
     "execution_count": 64,
     "metadata": {},
     "output_type": "execute_result"
    }
   ],
   "source": [
    "True is True or True is False"
   ]
  },
  {
   "cell_type": "code",
   "execution_count": 65,
   "metadata": {
    "collapsed": true
   },
   "outputs": [
    {
     "data": {
      "text/plain": [
       "False"
      ]
     },
     "execution_count": 65,
     "metadata": {},
     "output_type": "execute_result"
    }
   ],
   "source": [
    "1 is not 1"
   ]
  },
  {
   "cell_type": "code",
   "execution_count": 67,
   "metadata": {
    "collapsed": true
   },
   "outputs": [
    {
     "data": {
      "text/plain": [
       "False"
      ]
     },
     "execution_count": 67,
     "metadata": {},
     "output_type": "execute_result"
    }
   ],
   "source": [
    "2 is not 3 and 5 is not 5   ### True and False"
   ]
  },
  {
   "cell_type": "markdown",
   "metadata": {},
   "source": [
    "# Operators\n",
    "\n",
    "### Logical\n",
    "* not\n",
    "* and\n",
    "* or\n",
    " \n",
    "### Equality ==> Boolean\n",
    "* is\n",
    "* is not\n",
    "* ==\n",
    "* !=\n",
    " \n",
    "### Comparison\n",
    "* < , >\n",
    "* ≤ , ≥\n",
    "\n",
    "### Arithmetic\n",
    "+-*/ , // , %\n",
    "\n",
    "### Sequence\n",
    "* s[index]\n",
    "* s[start:stop]\n",
    "* s[start:stop:step]\n"
   ]
  },
  {
   "cell_type": "code",
   "execution_count": 4,
   "metadata": {},
   "outputs": [
    {
     "name": "stdout",
     "output_type": "stream",
     "text": [
      "2\n",
      "1\n",
      "onetwo\n"
     ]
    }
   ],
   "source": [
    "print(5//2)## int division => 2\n",
    "\n",
    "print(5%4) ## modulo => 1\n",
    "\n",
    "\n",
    "# string operations\n",
    "first = \"one\"\n",
    "second = \"two\"\n",
    "combined = first + second\n",
    "print(combined) # => onetwo"
   ]
  },
  {
   "cell_type": "markdown",
   "metadata": {},
   "source": [
    "## Sequence Operator"
   ]
  },
  {
   "cell_type": "code",
   "execution_count": 24,
   "metadata": {
    "collapsed": true
   },
   "outputs": [
    {
     "name": "stdout",
     "output_type": "stream",
     "text": [
      "chili is not in alist\n",
      "banana\n",
      "apple\n",
      "pineapple\n",
      "['banana', 'apple', 'pineapple']\n"
     ]
    }
   ],
   "source": [
    "# sequence Operators\n",
    "\n",
    "alist = ['banana', 'apple', 'pineapple']\n",
    "blist = ['banana', 'apple', 'pineapple']\n",
    "\n",
    "aPlusb = alist+blist ## =>['banana', 'apple', 'pineapple', 'banana', 'apple', 'pineapple']\n",
    "\n",
    "\n",
    "for i in range(len(alist)):\n",
    "    print(alist[i])\n",
    "\n",
    "listComprehension = [item for item in alist]\n",
    "print(listComprehension)"
   ]
  },
  {
   "cell_type": "code",
   "execution_count": 31,
   "metadata": {
    "collapsed": true
   },
   "outputs": [
    {
     "name": "stdout",
     "output_type": "stream",
     "text": [
      "['banana', 'apple', 'pineapple', 'banana', 'apple', 'pineapple', 'banana', 'apple', 'pineapple']\n"
     ]
    }
   ],
   "source": [
    "# k * s\n",
    "\n",
    "k = 3\n",
    "kaList = k*alist\n",
    "\n",
    "print(kaList)"
   ]
  },
  {
   "cell_type": "code",
   "execution_count": 30,
   "metadata": {
    "collapsed": true
   },
   "outputs": [
    {
     "name": "stdout",
     "output_type": "stream",
     "text": [
      "banana is in alist\n",
      "chilli is not in the list\n"
     ]
    }
   ],
   "source": [
    "# containment check ==> val in s\n",
    "# non-containment check ==> val not in s\n",
    "\n",
    "if 'banana' in alist:\n",
    "    print('banana is in alist')\n",
    "\n",
    "if 'chilli' not in alist:\n",
    "    print('chilli is not in the list')"
   ]
  },
  {
   "cell_type": "code",
   "execution_count": 43,
   "metadata": {
    "collapsed": true
   },
   "outputs": [
    {
     "name": "stdout",
     "output_type": "stream",
     "text": [
      "1\n",
      "2\n",
      "3\n",
      "4\n",
      "5\n",
      "6\n",
      "7\n",
      "8\n",
      "9\n",
      "10\n"
     ]
    }
   ],
   "source": [
    "# range(start, stop, step)\n",
    "\n",
    "# print 1-10\n",
    "\n",
    "for i in range(1,11):\n",
    "    print(i)\n",
    "    \n"
   ]
  },
  {
   "cell_type": "markdown",
   "metadata": {},
   "source": [
    "# if Statement\n",
    "\n",
    "* Only True condition will be execute.\n",
    "* Each if statement will be checked.\n",
    "* If-else statements stop checking when a match is found.\n"
   ]
  },
  {
   "cell_type": "code",
   "execution_count": 100,
   "metadata": {
    "collapsed": true
   },
   "outputs": [
    {
     "name": "stdout",
     "output_type": "stream",
     "text": [
      "True\n",
      "Another True\n"
     ]
    }
   ],
   "source": [
    "if False:\n",
    "    print('false. will not execute.')\n",
    "    \n",
    "if True:\n",
    "    print('True')\n",
    "elif True:\n",
    "    print('Also True')\n",
    "    \n",
    "if True:\n",
    "    print('Another True')"
   ]
  },
  {
   "cell_type": "code",
   "execution_count": 57,
   "metadata": {
    "collapsed": true
   },
   "outputs": [
    {
     "name": "stdout",
     "output_type": "stream",
     "text": [
      "val text is defined. text is Python\n",
      "<class 'str'>\n"
     ]
    }
   ],
   "source": [
    "number = 0\n",
    "text = \"Python\"\n",
    "    \n",
    "if number:\n",
    "    print(f'val number is defined. number is {number}')\n",
    "    print(type(number))\n",
    "    \n",
    "if text:\n",
    "    print(f'val text is defined. text is {text}')\n",
    "    print(type(text))"
   ]
  },
  {
   "cell_type": "code",
   "execution_count": 12,
   "metadata": {
    "collapsed": true
   },
   "outputs": [
    {
     "name": "stdout",
     "output_type": "stream",
     "text": [
      "<class 'NoneType'>\n",
      "apple\n",
      "aliens is not None.\n"
     ]
    }
   ],
   "source": [
    "# Boolean & None\n",
    "\n",
    "apple = True\n",
    "aliens = None\n",
    "\n",
    "print(type(aliens))\n",
    "\n",
    "if not apple: # if apple != True\n",
    "    print('not apple')\n",
    "if apple:\n",
    "    print('apple')\n",
    "\n",
    "if aliens: # do nothing if aliens = None\n",
    "    print('nothing wil be printed.')\n",
    "if not aliens:\n",
    "    print('aliens is not None.')"
   ]
  },
  {
   "cell_type": "code",
   "execution_count": 74,
   "metadata": {
    "collapsed": true
   },
   "outputs": [
    {
     "name": "stdout",
     "output_type": "stream",
     "text": [
      "Python_course is True.\n"
     ]
    }
   ],
   "source": [
    "python_course = False \n",
    "\n",
    "if not python_course: ## only being execute when the if statement is True.\n",
    "    print(\"Python_course is True.\")\n",
    "else:\n",
    "    print(f'python_course is False. Will not execute.')\n"
   ]
  },
  {
   "cell_type": "code",
   "execution_count": 14,
   "metadata": {
    "collapsed": true
   },
   "outputs": [
    {
     "name": "stdout",
     "output_type": "stream",
     "text": [
      "number is not 5\n"
     ]
    }
   ],
   "source": [
    "number = 7\n",
    "\n",
    "if number == 5:\n",
    "   print(\"This will not execute\")\n",
    "else:\n",
    "    print('number is not 5')\n",
    "    "
   ]
  },
  {
   "cell_type": "code",
   "execution_count": 18,
   "metadata": {
    "collapsed": true
   },
   "outputs": [
    {
     "name": "stdout",
     "output_type": "stream",
     "text": [
      "This will not execute. number2 = 7\n"
     ]
    }
   ],
   "source": [
    "number2 = 5\n",
    "\n",
    "if number2 != 7: ## False. therefore it won't be executed.\n",
    "   print(\"This will not execute. number2 = 7\")\n",
    "else:\n",
    "    print('number is 7')"
   ]
  },
  {
   "cell_type": "markdown",
   "metadata": {},
   "source": [
    "## Multiple if conditions"
   ]
  },
  {
   "cell_type": "code",
   "execution_count": 19,
   "metadata": {
    "collapsed": true
   },
   "outputs": [
    {
     "name": "stdout",
     "output_type": "stream",
     "text": [
      "This will execute\n",
      "This will also execute\n"
     ]
    }
   ],
   "source": [
    "number = 3\n",
    "python_course = True\n",
    "\n",
    "if number == 3 and python_course:\n",
    "    print(\"This will execute\")\n",
    "    \n",
    "if number == 17 or python_course: \n",
    "    print(\"This will also execute\")"
   ]
  },
  {
   "cell_type": "markdown",
   "metadata": {},
   "source": [
    "## Ternary if "
   ]
  },
  {
   "cell_type": "code",
   "execution_count": 21,
   "metadata": {
    "collapsed": true
   },
   "outputs": [
    {
     "name": "stdout",
     "output_type": "stream",
     "text": [
      "This will also execute\n"
     ]
    }
   ],
   "source": [
    "a = 1\n",
    "b = 2\n",
    "\n",
    "if a > b or \"smaller\": ## in if statement, \"string\" always return True.\n",
    "    print(\"This will also execute\")"
   ]
  },
  {
   "cell_type": "markdown",
   "metadata": {},
   "source": [
    "# while & for Loops\n",
    "* while a condition is True:\n",
    "* for element in an iterable:"
   ]
  },
  {
   "cell_type": "code",
   "execution_count": 23,
   "metadata": {
    "collapsed": true
   },
   "outputs": [
    {
     "name": "stdout",
     "output_type": "stream",
     "text": [
      "0\n",
      "1\n",
      "2\n",
      "3\n",
      "4\n",
      "5\n",
      "6\n",
      "7\n",
      "8\n",
      "9\n",
      "10\n"
     ]
    }
   ],
   "source": [
    "# print 0-10 use while \n",
    "\n",
    "i = 0\n",
    "while i < 11:\n",
    "    print(i)\n",
    "    i += 1"
   ]
  },
  {
   "cell_type": "code",
   "execution_count": 8,
   "metadata": {
    "collapsed": true
   },
   "outputs": [
    {
     "name": "stdout",
     "output_type": "stream",
     "text": [
      "0\n",
      "1\n",
      "2\n",
      "3\n",
      "4\n",
      "5\n",
      "6\n",
      "7\n",
      "8\n",
      "9\n",
      "10\n"
     ]
    }
   ],
   "source": [
    "# print 0-10 use for\n",
    "for i in range(0,11): #. range(start, end, step)\n",
    "    print(i)"
   ]
  },
  {
   "cell_type": "code",
   "execution_count": 22,
   "metadata": {
    "collapsed": true
   },
   "outputs": [
    {
     "name": "stdout",
     "output_type": "stream",
     "text": [
      "0\n",
      "1\n",
      "3\n",
      "6\n",
      "10\n",
      "15\n",
      "21\n",
      "28\n",
      "36\n",
      "45\n",
      "55\n"
     ]
    }
   ],
   "source": [
    "# sum from 0 to 10 using while\n",
    "\n",
    "sum = 0\n",
    "x = 0\n",
    "while x <= 10:\n",
    "    sum += x\n",
    "    x += 1\n",
    "    \n",
    "    print(sum)"
   ]
  },
  {
   "cell_type": "code",
   "execution_count": 14,
   "metadata": {
    "collapsed": true
   },
   "outputs": [
    {
     "name": "stdout",
     "output_type": "stream",
     "text": [
      "55\n"
     ]
    }
   ],
   "source": [
    "# sum from 0 to 10 using for\n",
    "\n",
    "sum = 0\n",
    "for n in range(0,11):\n",
    "    sum += n\n",
    "print(sum)"
   ]
  },
  {
   "cell_type": "markdown",
   "metadata": {},
   "source": [
    "## break"
   ]
  },
  {
   "cell_type": "code",
   "execution_count": 122,
   "metadata": {
    "collapsed": true
   },
   "outputs": [
    {
     "name": "stdout",
     "output_type": "stream",
     "text": [
      "current letter is p\n",
      "current letter is y\n",
      "current letter is t\n",
      "\n",
      "current letter is h\n"
     ]
    }
   ],
   "source": [
    "# VIP\n",
    "# What's the output?\n",
    "\n",
    "for letter in 'python':\n",
    "    if letter == 'h':\n",
    "        break\n",
    "    print(f'current letter is {letter}')\n",
    "print()\n",
    "print(f'current letter is {letter}')"
   ]
  },
  {
   "cell_type": "code",
   "execution_count": 129,
   "metadata": {
    "collapsed": true
   },
   "outputs": [
    {
     "name": "stdout",
     "output_type": "stream",
     "text": [
      "20\n",
      "21\n",
      "22\n",
      "23\n",
      "24\n",
      "25\n",
      "26\n",
      "27\n",
      "28\n",
      "29\n"
     ]
    }
   ],
   "source": [
    "# Ex1. print first 10 from 20-50\n",
    "\n",
    "i = 20\n",
    "while i <= 50:\n",
    "    if i < 30:\n",
    "        print(i)\n",
    "    else:\n",
    "        break\n",
    "    i += 1"
   ]
  },
  {
   "cell_type": "code",
   "execution_count": 128,
   "metadata": {
    "collapsed": true
   },
   "outputs": [
    {
     "name": "stdout",
     "output_type": "stream",
     "text": [
      "0\n",
      "1\n",
      "2\n",
      "3\n",
      "4\n",
      "5\n",
      "6\n",
      "7\n",
      "8\n",
      "9\n"
     ]
    }
   ],
   "source": [
    "# Ex2. print first 10 among 0-100\n",
    "\n",
    "x = 0\n",
    "while True:\n",
    "    if x >= 10: \n",
    "        break\n",
    "    print(x)\n",
    "    x += 1"
   ]
  },
  {
   "cell_type": "code",
   "execution_count": 130,
   "metadata": {
    "collapsed": true
   },
   "outputs": [
    {
     "name": "stdout",
     "output_type": "stream",
     "text": [
      "apple\n",
      "pineapple\n"
     ]
    }
   ],
   "source": [
    "# Ex3. print fruit list until 'mango'\n",
    "\n",
    "fruit = [\"apple\", \"pineapple\", \"mango\", \"banana\", \"kiwi\"]\n",
    "\n",
    "for i in fruit:\n",
    "    if i == 'mango':\n",
    "        break\n",
    "    print(i)"
   ]
  }
 ],
 "metadata": {
  "kernelspec": {
   "display_name": "Python 3",
   "language": "python",
   "name": "python3"
  },
  "language_info": {
   "codemirror_mode": {
    "name": "ipython",
    "version": 3
   },
   "file_extension": ".py",
   "mimetype": "text/x-python",
   "name": "python",
   "nbconvert_exporter": "python",
   "pygments_lexer": "ipython3",
   "version": "3.7.4"
  }
 },
 "nbformat": 4,
 "nbformat_minor": 2
}
